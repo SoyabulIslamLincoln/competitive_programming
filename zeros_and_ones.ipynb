{
 "metadata": {
  "language_info": {
   "codemirror_mode": {
    "name": "ipython",
    "version": 3
   },
   "file_extension": ".py",
   "mimetype": "text/x-python",
   "name": "python",
   "nbconvert_exporter": "python",
   "pygments_lexer": "ipython3",
   "version": "3.8.3-final"
  },
  "orig_nbformat": 2,
  "kernelspec": {
   "name": "python38364bitbaseconda336b73efc3134ef394faa2b93a5616b2",
   "display_name": "Python 3.8.3 64-bit ('base': conda)"
  }
 },
 "nbformat": 4,
 "nbformat_minor": 2,
 "cells": [
  {
   "source": [
    "# Zeros amd Ones\n",
    "### zeros\n",
    "\n",
    "The zeros tool returns a new array with a given shape and type filled with\n",
    "\n",
    "'s.\n",
    "\n",
    "import numpy\n",
    "\n",
    "print numpy.zeros((1,2))                    #Default type is float\n",
    "#Output : [[ 0.  0.]] \n",
    "\n",
    "print numpy.zeros((1,2), dtype = numpy.int) #Type changes to int\n",
    "#Output : [[0 0]]\n",
    "\n",
    "ones\n",
    "\n",
    "The ones tool returns a new array with a given shape and type filled with\n",
    "\n",
    "'s.\n",
    "\n",
    "import numpy\n",
    "\n",
    "print numpy.ones((1,2))                    #Default type is float\n",
    "#Output : [[ 1.  1.]] \n",
    "\n",
    "print numpy.ones((1,2), dtype = numpy.int) #Type changes to int\n",
    "#Output : [[1 1]]   \n",
    "\n",
    "Task\n",
    "\n",
    "You are given the shape of the array in the form of space-separated integers, each integer representing the size of different dimensions, your task is to print an array of the given shape and integer type using the tools numpy.zeros and numpy.ones.\n",
    "\n",
    "Input Format\n",
    "\n",
    "A single line containing the space-separated integers.\n",
    "\n",
    "Constraints\n",
    "\n",
    "Output Format\n",
    "\n",
    "First, print the array using the numpy.zeros tool and then print the array with the numpy.ones tool.\n",
    "\n",
    "Sample Input 0\n",
    "\n",
    "3 3 3\n",
    "\n",
    "Sample Output 0\n",
    "\n",
    "[[[0 0 0]\n",
    "  [0 0 0]\n",
    "  [0 0 0]]\n",
    "\n",
    " [[0 0 0]\n",
    "  [0 0 0]\n",
    "  [0 0 0]]\n",
    "\n",
    " [[0 0 0]\n",
    "  [0 0 0]\n",
    "  [0 0 0]]]\n",
    "[[[1 1 1]\n",
    "  [1 1 1]\n",
    "  [1 1 1]]\n",
    "\n",
    " [[1 1 1]\n",
    "  [1 1 1]\n",
    "  [1 1 1]]\n",
    "\n",
    " [[1 1 1]\n",
    "  [1 1 1]\n",
    "  [1 1 1]]]\n",
    "\n",
    "Explanation 0\n",
    "\n",
    "Print the array built using numpy.zeros and numpy.ones tools and you get the result as shown. "
   ],
   "cell_type": "markdown",
   "metadata": {}
  },
  {
   "cell_type": "code",
   "execution_count": 2,
   "metadata": {},
   "outputs": [
    {
     "output_type": "stream",
     "name": "stdout",
     "text": [
      "[[[0 0 0]\n  [0 0 0]\n  [0 0 0]]\n\n [[0 0 0]\n  [0 0 0]\n  [0 0 0]]\n\n [[0 0 0]\n  [0 0 0]\n  [0 0 0]]]\n[[[1 1 1]\n  [1 1 1]\n  [1 1 1]]\n\n [[1 1 1]\n  [1 1 1]\n  [1 1 1]]\n\n [[1 1 1]\n  [1 1 1]\n  [1 1 1]]]\n"
     ]
    }
   ],
   "source": [
    "import numpy as np\n",
    "def arrays(arr):\n",
    "    array1 = np.array(arr, dtype = int)\n",
    "    array2 = np.zeros(array1, dtype = int)\n",
    "    array3 = np.ones(array1, dtype = int)\n",
    "    return array2, array3\n",
    "\n",
    "arr = input().strip().split(' ')\n",
    "arr2, arr3 = arrays(arr)\n",
    "\n",
    "print(arr2)\n",
    "print(arr3)\n",
    "\n"
   ]
  },
  {
   "cell_type": "code",
   "execution_count": null,
   "metadata": {},
   "outputs": [],
   "source": []
  }
 ]
}